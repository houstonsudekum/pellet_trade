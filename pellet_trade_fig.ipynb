{
 "cells": [
  {
   "cell_type": "code",
   "execution_count": 76,
   "metadata": {},
   "outputs": [],
   "source": [
    "# read in modules\n",
    "\n",
    "import os\n",
    "import json\n",
    "import requests\n",
    "import pandas as pd\n",
    "import numpy as np"
   ]
  },
  {
   "cell_type": "code",
   "execution_count": 77,
   "metadata": {},
   "outputs": [],
   "source": [
    "# create our path name and read in comoddity codes\n",
    "\n",
    "path = \"in_data\"\n",
    "coms = \"comcodes.csv\"\n",
    "comcodes = os.path.join(path,coms)\n",
    "coms = pd.read_csv(comcodes)"
   ]
  },
  {
   "cell_type": "code",
   "execution_count": 78,
   "metadata": {},
   "outputs": [],
   "source": [
    "coms.columns = ['comcode','JQ']"
   ]
  },
  {
   "cell_type": "code",
   "execution_count": 79,
   "metadata": {},
   "outputs": [
    {
     "name": "stdout",
     "output_type": "stream",
     "text": [
      "['5.1', '5.2']\n",
      "    comcode   JQ\n",
      "33   440131  5.1\n"
     ]
    }
   ],
   "source": [
    "JQs = [i for i in coms.JQ if str(i).startswith('5')]\n",
    "print(JQs)\n",
    "\n",
    "HSs = coms[coms.JQ.isin(['5.1'])]\n",
    "print(HSs)"
   ]
  },
  {
   "cell_type": "code",
   "execution_count": 80,
   "metadata": {},
   "outputs": [
    {
     "name": "stdout",
     "output_type": "stream",
     "text": [
      "440131\n"
     ]
    }
   ],
   "source": [
    "# build a string formatted correctly of all of the commoddity codes we need\n",
    "\n",
    "comarray = HSs.comcode.unique()\n",
    "comlist = list(comarray)\n",
    "\n",
    "comstr = str()\n",
    "for idx,i in enumerate(comlist):\n",
    "    val = str(i)\n",
    "    if idx == 0:\n",
    "        comstr = val\n",
    "    else:\n",
    "        comstr = comstr + '%2C' + val\n",
    "\n",
    "print(comstr)"
   ]
  },
  {
   "cell_type": "code",
   "execution_count": 81,
   "metadata": {},
   "outputs": [],
   "source": [
    "minyear = 2000\n",
    "maxyear = 2018\n",
    "comcode = comstr\n",
    "token = \"Dpj7YgwAXqJJQ1HDfa4pInbDfsNK6RbbAGdIirJdSAVUWVXLaPu/v7NMP4ZLqNnAiLLNirmZyPP1rHOhQmqKI35TBzlb+5eEtPAy/0y0GmiKnubTtpoXkIynNpRRxxH2tJyijaK7ryBs3/urUceZFA==\""
   ]
  },
  {
   "cell_type": "code",
   "execution_count": 82,
   "metadata": {},
   "outputs": [
    {
     "name": "stdout",
     "output_type": "stream",
     "text": [
      "2018%2C2017%2C2016%2C2015%2C2014%2C2013%2C2012%2C2011%2C2010%2C2009%2C2008%2C2007%2C2006%2C2005%2C2004%2C2003%2C2002%2C2001%2C2000\n"
     ]
    }
   ],
   "source": [
    "years = list(range(minyear,maxyear + 1))\n",
    "yearstr = str()\n",
    "\n",
    "for idx,i in enumerate(years):\n",
    "    if idx < len(years) - 1:\n",
    "        val = str(i)\n",
    "        yearstr = '%2C' + val + yearstr\n",
    "    else:\n",
    "        val = str(i)\n",
    "        yearstr = val + yearstr\n",
    "        print(yearstr)\n",
    "        "
   ]
  },
  {
   "cell_type": "code",
   "execution_count": 83,
   "metadata": {},
   "outputs": [
    {
     "name": "stdout",
     "output_type": "stream",
     "text": [
      "    id         text\n",
      "0  all          All\n",
      "1    4  Afghanistan\n",
      "2    8      Albania\n",
      "3   12      Algeria\n",
      "4   20      Andorra\n"
     ]
    }
   ],
   "source": [
    "URLcountries = \"https://comtrade.un.org/Data/cache/reporterAreas.json\"\n",
    "    \n",
    "datacodes = requests.get(URLcountries)\n",
    "\n",
    "jsoncodes = datacodes.json()\n",
    "\n",
    "countrycodes = jsoncodes['results']\n",
    "\n",
    "cc = pd.DataFrame.from_records(countrycodes)\n",
    "\n",
    "print(cc.head())\n"
   ]
  },
  {
   "cell_type": "code",
   "execution_count": 84,
   "metadata": {},
   "outputs": [
    {
     "name": "stdout",
     "output_type": "stream",
     "text": [
      "      id text\n",
      "245  842  USA\n"
     ]
    }
   ],
   "source": [
    "print(cc.loc[cc['text'] == 'USA'])"
   ]
  },
  {
   "cell_type": "code",
   "execution_count": 85,
   "metadata": {},
   "outputs": [
    {
     "name": "stdout",
     "output_type": "stream",
     "text": [
      "http://comtrade.un.org/api/get?token=Dpj7YgwAXqJJQ1HDfa4pInbDfsNK6RbbAGdIirJdSAVUWVXLaPu/v7NMP4ZLqNnAiLLNirmZyPP1rHOhQmqKI35TBzlb+5eEtPAy/0y0GmiKnubTtpoXkIynNpRRxxH2tJyijaK7ryBs3/urUceZFA==&max=100000000&type=C&freq=A&ps=2018%2C2017%2C2016%2C2015%2C2014%2C2013%2C2012%2C2011%2C2010%2C2009%2C2008%2C2007%2C2006%2C2005%2C2004%2C2003%2C2002%2C2001%2C2000&px=H4&r=842&p=0&rg=1%2C2&cc=440131\n"
     ]
    }
   ],
   "source": [
    "URL = \"http://comtrade.un.org/api/get?\"\n",
    "\n",
    "parameters = {'token' : '{}'.format(token),\n",
    "    'max' : 100000000,\n",
    "    'type': 'C', # type C = commodities\n",
    "    'freq' : 'A', # frequency A = annual\n",
    "    'ps' : '{}'.format(yearstr),\n",
    "    'px' : 'H4', # H4 indicates we are using HS - 2012 codes\n",
    "    'r' : 842, # this is the reporter\n",
    "    'p' : 0, #  this the the partner set to (ALL)\n",
    "    'rg' : '1%2C2', # rg is the trade flow and we take import and exports\n",
    "    'cc' : '{}'.format(comcode)} # commodity codes\n",
    "\n",
    "parstring = str()\n",
    "for i in parameters.keys():\n",
    "    key = str(i)\n",
    "    val = str(parameters[i])\n",
    "    if i != 'cc':\n",
    "        urlval = key+\"=\"+val+\"&\"\n",
    "        parstring = parstring + urlval\n",
    "    else:\n",
    "        urlval = key+\"=\"+val\n",
    "        URL = URL + parstring + urlval\n",
    "        print(URL)\n",
    "        \n",
    "data = requests.get(URL)"
   ]
  },
  {
   "cell_type": "code",
   "execution_count": 86,
   "metadata": {},
   "outputs": [
    {
     "name": "stdout",
     "output_type": "stream",
     "text": [
      "{'status': {'name': 'Ok', 'value': 0, 'category': 0, 'description': '', 'helpUrl': 'For more reference visit http://comtrade.un.org/data/dev/portal/'}, 'message': None, 'count': {'value': 14, 'started': '2019-12-09T20:23:49.240577+01:00', 'finished': '2019-12-09T20:23:49.4280615+01:00', 'durationSeconds': 0.1874845}, 'datasetTimer': {'started': '2019-12-09T20:23:49.240577+01:00', 'finished': '2019-12-09T20:23:49.5999524+01:00', 'durationSeconds': 0.35937539999999996}}\n"
     ]
    }
   ],
   "source": [
    "datajson = data.json()\n",
    "\n",
    "print(datajson['validation'])"
   ]
  },
  {
   "cell_type": "code",
   "execution_count": 87,
   "metadata": {},
   "outputs": [],
   "source": [
    "ncp = pd.DataFrame.from_records(datajson['dataset'])    "
   ]
  },
  {
   "cell_type": "code",
   "execution_count": 88,
   "metadata": {},
   "outputs": [
    {
     "name": "stdout",
     "output_type": "stream",
     "text": [
      "2012 2018\n",
      "['440131']\n"
     ]
    }
   ],
   "source": [
    "print(min(ncp.yr),max(ncp.yr))\n",
    "print(ncp.cmdCode.unique())"
   ]
  },
  {
   "cell_type": "code",
   "execution_count": 89,
   "metadata": {},
   "outputs": [
    {
     "name": "stdout",
     "output_type": "stream",
     "text": [
      "     yr  rgCode rtTitle ptTitle cmdCode  TradeQuantity   NetWeight\n",
      "0  2012       1     USA   World  440131       86736450    86736450\n",
      "1  2012       2     USA   World  440131     1898124809  1898124809\n",
      "2  2013       1     USA   World  440131      152441735   152441735\n",
      "3  2013       2     USA   World  440131     2882516750  2882516750\n",
      "4  2014       1     USA   World  440131      219986490   219986490\n"
     ]
    }
   ],
   "source": [
    "columnlist = ['yr','rtTitle','ptTitle','rgCode','cmdCode','TradeQuantity','NetWeight']\n",
    "\n",
    "for i in list(ncp):\n",
    "    if not i in columnlist:\n",
    "        del ncp[i]\n",
    "        \n",
    "print(ncp.head())"
   ]
  },
  {
   "cell_type": "code",
   "execution_count": 90,
   "metadata": {},
   "outputs": [
    {
     "name": "stdout",
     "output_type": "stream",
     "text": [
      "      yr  rgCode rtTitle ptTitle cmdCode  TradeQuantity   NetWeight\n",
      "1   2012       2     USA   World  440131     1898124809  1898124809\n",
      "3   2013       2     USA   World  440131     2882516750  2882516750\n",
      "5   2014       2     USA   World  440131     4055732444  4055732444\n",
      "7   2015       2     USA   World  440131     4668774776  4668774776\n",
      "9   2016       2     USA   World  440131     4736570932  4736570932\n",
      "11  2017       2     USA   World  440131     5148095914  5148095914\n",
      "13  2018       2     USA   World  440131     6017277722  6017277722\n"
     ]
    }
   ],
   "source": [
    "ncp = ncp[ncp.rgCode == 2]\n",
    "print(ncp)"
   ]
  },
  {
   "cell_type": "code",
   "execution_count": 91,
   "metadata": {},
   "outputs": [],
   "source": [
    "ncp.loc[:,'export_weight'] = ncp.NetWeight/1000000000"
   ]
  },
  {
   "cell_type": "code",
   "execution_count": 92,
   "metadata": {},
   "outputs": [
    {
     "data": {
      "text/html": [
       "<div>\n",
       "<style scoped>\n",
       "    .dataframe tbody tr th:only-of-type {\n",
       "        vertical-align: middle;\n",
       "    }\n",
       "\n",
       "    .dataframe tbody tr th {\n",
       "        vertical-align: top;\n",
       "    }\n",
       "\n",
       "    .dataframe thead th {\n",
       "        text-align: right;\n",
       "    }\n",
       "</style>\n",
       "<table border=\"1\" class=\"dataframe\">\n",
       "  <thead>\n",
       "    <tr style=\"text-align: right;\">\n",
       "      <th></th>\n",
       "      <th>yr</th>\n",
       "      <th>rgCode</th>\n",
       "      <th>rtTitle</th>\n",
       "      <th>ptTitle</th>\n",
       "      <th>cmdCode</th>\n",
       "      <th>TradeQuantity</th>\n",
       "      <th>NetWeight</th>\n",
       "      <th>export_weight</th>\n",
       "    </tr>\n",
       "  </thead>\n",
       "  <tbody>\n",
       "    <tr>\n",
       "      <td>1</td>\n",
       "      <td>2012</td>\n",
       "      <td>2</td>\n",
       "      <td>USA</td>\n",
       "      <td>World</td>\n",
       "      <td>440131</td>\n",
       "      <td>1898124809</td>\n",
       "      <td>1898124809</td>\n",
       "      <td>1.898125</td>\n",
       "    </tr>\n",
       "    <tr>\n",
       "      <td>3</td>\n",
       "      <td>2013</td>\n",
       "      <td>2</td>\n",
       "      <td>USA</td>\n",
       "      <td>World</td>\n",
       "      <td>440131</td>\n",
       "      <td>2882516750</td>\n",
       "      <td>2882516750</td>\n",
       "      <td>2.882517</td>\n",
       "    </tr>\n",
       "    <tr>\n",
       "      <td>5</td>\n",
       "      <td>2014</td>\n",
       "      <td>2</td>\n",
       "      <td>USA</td>\n",
       "      <td>World</td>\n",
       "      <td>440131</td>\n",
       "      <td>4055732444</td>\n",
       "      <td>4055732444</td>\n",
       "      <td>4.055732</td>\n",
       "    </tr>\n",
       "    <tr>\n",
       "      <td>7</td>\n",
       "      <td>2015</td>\n",
       "      <td>2</td>\n",
       "      <td>USA</td>\n",
       "      <td>World</td>\n",
       "      <td>440131</td>\n",
       "      <td>4668774776</td>\n",
       "      <td>4668774776</td>\n",
       "      <td>4.668775</td>\n",
       "    </tr>\n",
       "    <tr>\n",
       "      <td>9</td>\n",
       "      <td>2016</td>\n",
       "      <td>2</td>\n",
       "      <td>USA</td>\n",
       "      <td>World</td>\n",
       "      <td>440131</td>\n",
       "      <td>4736570932</td>\n",
       "      <td>4736570932</td>\n",
       "      <td>4.736571</td>\n",
       "    </tr>\n",
       "    <tr>\n",
       "      <td>11</td>\n",
       "      <td>2017</td>\n",
       "      <td>2</td>\n",
       "      <td>USA</td>\n",
       "      <td>World</td>\n",
       "      <td>440131</td>\n",
       "      <td>5148095914</td>\n",
       "      <td>5148095914</td>\n",
       "      <td>5.148096</td>\n",
       "    </tr>\n",
       "    <tr>\n",
       "      <td>13</td>\n",
       "      <td>2018</td>\n",
       "      <td>2</td>\n",
       "      <td>USA</td>\n",
       "      <td>World</td>\n",
       "      <td>440131</td>\n",
       "      <td>6017277722</td>\n",
       "      <td>6017277722</td>\n",
       "      <td>6.017278</td>\n",
       "    </tr>\n",
       "  </tbody>\n",
       "</table>\n",
       "</div>"
      ],
      "text/plain": [
       "      yr  rgCode rtTitle ptTitle cmdCode  TradeQuantity   NetWeight  \\\n",
       "1   2012       2     USA   World  440131     1898124809  1898124809   \n",
       "3   2013       2     USA   World  440131     2882516750  2882516750   \n",
       "5   2014       2     USA   World  440131     4055732444  4055732444   \n",
       "7   2015       2     USA   World  440131     4668774776  4668774776   \n",
       "9   2016       2     USA   World  440131     4736570932  4736570932   \n",
       "11  2017       2     USA   World  440131     5148095914  5148095914   \n",
       "13  2018       2     USA   World  440131     6017277722  6017277722   \n",
       "\n",
       "    export_weight  \n",
       "1        1.898125  \n",
       "3        2.882517  \n",
       "5        4.055732  \n",
       "7        4.668775  \n",
       "9        4.736571  \n",
       "11       5.148096  \n",
       "13       6.017278  "
      ]
     },
     "execution_count": 92,
     "metadata": {},
     "output_type": "execute_result"
    }
   ],
   "source": [
    "ncp"
   ]
  },
  {
   "cell_type": "code",
   "execution_count": 93,
   "metadata": {},
   "outputs": [],
   "source": [
    "ncp = ncp[['yr','export_weight']]"
   ]
  },
  {
   "cell_type": "code",
   "execution_count": 94,
   "metadata": {},
   "outputs": [
    {
     "data": {
      "text/html": [
       "<div>\n",
       "<style scoped>\n",
       "    .dataframe tbody tr th:only-of-type {\n",
       "        vertical-align: middle;\n",
       "    }\n",
       "\n",
       "    .dataframe tbody tr th {\n",
       "        vertical-align: top;\n",
       "    }\n",
       "\n",
       "    .dataframe thead th {\n",
       "        text-align: right;\n",
       "    }\n",
       "</style>\n",
       "<table border=\"1\" class=\"dataframe\">\n",
       "  <thead>\n",
       "    <tr style=\"text-align: right;\">\n",
       "      <th></th>\n",
       "      <th>yr</th>\n",
       "      <th>export_weight</th>\n",
       "    </tr>\n",
       "  </thead>\n",
       "  <tbody>\n",
       "    <tr>\n",
       "      <td>1</td>\n",
       "      <td>2012</td>\n",
       "      <td>1.898125</td>\n",
       "    </tr>\n",
       "    <tr>\n",
       "      <td>3</td>\n",
       "      <td>2013</td>\n",
       "      <td>2.882517</td>\n",
       "    </tr>\n",
       "    <tr>\n",
       "      <td>5</td>\n",
       "      <td>2014</td>\n",
       "      <td>4.055732</td>\n",
       "    </tr>\n",
       "    <tr>\n",
       "      <td>7</td>\n",
       "      <td>2015</td>\n",
       "      <td>4.668775</td>\n",
       "    </tr>\n",
       "    <tr>\n",
       "      <td>9</td>\n",
       "      <td>2016</td>\n",
       "      <td>4.736571</td>\n",
       "    </tr>\n",
       "    <tr>\n",
       "      <td>11</td>\n",
       "      <td>2017</td>\n",
       "      <td>5.148096</td>\n",
       "    </tr>\n",
       "    <tr>\n",
       "      <td>13</td>\n",
       "      <td>2018</td>\n",
       "      <td>6.017278</td>\n",
       "    </tr>\n",
       "  </tbody>\n",
       "</table>\n",
       "</div>"
      ],
      "text/plain": [
       "      yr  export_weight\n",
       "1   2012       1.898125\n",
       "3   2013       2.882517\n",
       "5   2014       4.055732\n",
       "7   2015       4.668775\n",
       "9   2016       4.736571\n",
       "11  2017       5.148096\n",
       "13  2018       6.017278"
      ]
     },
     "execution_count": 94,
     "metadata": {},
     "output_type": "execute_result"
    }
   ],
   "source": [
    "ncp"
   ]
  },
  {
   "cell_type": "code",
   "execution_count": 95,
   "metadata": {},
   "outputs": [],
   "source": [
    "import matplotlib.pyplot as plt\n",
    "plt.style.use('seaborn-dark-palette')"
   ]
  },
  {
   "cell_type": "code",
   "execution_count": 96,
   "metadata": {},
   "outputs": [
    {
     "data": {
      "image/png": "[encoded data removed]",
      "text/plain": [
       "<Figure size 1080x720 with 1 Axes>"
      ]
     },
     "metadata": {
      "needs_background": "light"
     },
     "output_type": "display_data"
    }
   ],
   "source": [
    "plt.rcParams[\"figure.figsize\"] = (15,10)\n",
    "fig,ax = plt.subplots()\n",
    "\n",
    "\n",
    "#plt.box(False)\n",
    "bar = ax.bar(ncp.yr, ncp.export_weight, width = .5)\n",
    "\n",
    "ax.set_ylabel('Million Metric Tons')\n",
    "ax.set_title('Annual US Wood Pellet Exports')\n",
    "ax.tick_params(left=False, bottom=False)\n",
    "ax.spines['top'].set_visible(False)\n",
    "ax.spines['right'].set_visible(False)\n",
    "\n",
    "# function taken from https://matplotlib.org/3.1.1/gallery/lines_bars_and_markers/barchart.html\n",
    "def autolabel(rects):\n",
    "    \"\"\"Attach a text label above each bar in *rects*, displaying its height.\"\"\"\n",
    "    for rect in rects:\n",
    "        height = round(rect.get_height(), 2)\n",
    "        ax.annotate('{}'.format(height),\n",
    "                    xy=(rect.get_x() + rect.get_width() / 2, height),\n",
    "                    xytext=(0, 3),  # 3 points vertical offset\n",
    "                    textcoords=\"offset points\",\n",
    "                    ha='center', va='bottom')\n",
    "\n",
    "\n",
    "autolabel(bar)\n",
    "\n",
    "plt.show()"
   ]
  },
  {
   "cell_type": "code",
   "execution_count": 97,
   "metadata": {},
   "outputs": [],
   "source": [
    "eupath = os.path.join(path,\"eurostat_imports.csv\")\n",
    "\n",
    "eu = pd.read_csv(eupath)"
   ]
  },
  {
   "cell_type": "code",
   "execution_count": 98,
   "metadata": {},
   "outputs": [],
   "source": [
    "eu = eu.rename(columns={'Unnamed: 0':'year'})"
   ]
  },
  {
   "cell_type": "code",
   "execution_count": 99,
   "metadata": {},
   "outputs": [],
   "source": [
    "eu = eu.astype(float)\n",
    "eu.iloc[:,1:4] = eu.iloc[:,1:4].div(10000000)"
   ]
  },
  {
   "cell_type": "code",
   "execution_count": 111,
   "metadata": {},
   "outputs": [
    {
     "data": {
      "image/png": "[encoded data removed]",
      "text/plain": [
       "<Figure size 1080x720 with 2 Axes>"
      ]
     },
     "metadata": {
      "needs_background": "light"
     },
     "output_type": "display_data"
    }
   ],
   "source": [
    "fig,ax = plt.subplots(1,2, sharey = True, sharex = True)\n",
    "\n",
    "rect = ax[0].bar(ncp.yr, ncp.export_weight, width = .5, color = 'darkgray',edgecolor = 'black')\n",
    "\n",
    "rect1 = ax[1].bar(eu.year, eu.US, width = .5,color='darkgray',edgecolor = 'black')\n",
    "\n",
    "rect2 = ax[1].bar(eu.year, eu.extra_US, width = .5, bottom=eu.US, color = 'white',edgecolor = 'black')\n",
    "\n",
    "fig.text(0.06, 0.5, 'Million Metric Tons', ha='center', va='center', rotation='vertical',fontsize = 15)\n",
    "ax[0].tick_params(left='off', bottom='off')\n",
    "ax[1].tick_params(left='off', bottom='off')\n",
    "ax[0].spines['top'].set_visible(False)\n",
    "ax[0].spines['right'].set_visible(False)\n",
    "ax[1].spines['top'].set_visible(False)\n",
    "ax[1].spines['right'].set_visible(False)\n",
    "ax[0].set_title('US wood-pellet exports',fontsize = 15)\n",
    "ax[1].set_title('EU28 wood-pellet imports',fontsize = 15)\n",
    "\n",
    "def autolabel(rects):\n",
    "    \"\"\"Attach a text label above each bar in *rects*, displaying its height.\"\"\"\n",
    "    for rect in rects:\n",
    "        height = round(rect.get_height(), 1)\n",
    "        ax[0].annotate('{}'.format(height),\n",
    "                    xy=(rect.get_x() + rect.get_width() / 2, height),\n",
    "                    xytext=(0, 3),  # 3 points vertical offset\n",
    "                    textcoords=\"offset points\",\n",
    "                    ha='center', va='bottom',fontsize = 15)\n",
    "autolabel(rect)\n",
    "\n",
    "ax[1].legend((rect1[0], rect2[0]), ('US', 'EU28 Extra'), frameon = False,prop={'size': 15})\n",
    "\n",
    "\n",
    "ax[0].tick_params(labelsize = 15)\n",
    "ax[1].tick_params(labelsize = 15)"
   ]
  },
  {
   "cell_type": "code",
   "execution_count": 101,
   "metadata": {},
   "outputs": [],
   "source": [
    "import subprocess\n",
    "\n",
    "def plot_as_emf(**kwargs):\n",
    "    # finds inkscape to convert svg file to emf file...\n",
    "    inkscape_path = kwargs.get('inkscape', \"C://Program Files//Inkscape//inkscape.exe\")\n",
    "    filepath = kwargs.get('filename', None)\n",
    "\n",
    "    if filepath is not None:\n",
    "        path, filename = os.path.split(filepath)\n",
    "        filename, extension = os.path.splitext(filename)\n",
    "\n",
    "        svg_filepath = os.path.join(path, filename+'.svg')\n",
    "        emf_filepath = os.path.join(path, filename+'.emf')\n",
    "\n",
    "        subprocess.call([inkscape_path, svg_filepath, '--export-emf', emf_filepath])"
   ]
  },
  {
   "cell_type": "code",
   "execution_count": 102,
   "metadata": {},
   "outputs": [],
   "source": [
    "path = 'out_data\\\\comtrade_trade.svg'\n",
    "fig.savefig(path, quality = 95,bbox_inches='tight', pad_inches=0)"
   ]
  },
  {
   "cell_type": "code",
   "execution_count": 103,
   "metadata": {},
   "outputs": [],
   "source": [
    "plot_as_emf(filename = path)"
   ]
  },
  {
   "cell_type": "markdown",
   "metadata": {},
   "source": [
    "**I was beginning to gather all of the EU country names etc**"
   ]
  }
 ],
 "metadata": {
  "kernelspec": {
   "display_name": "Python 3",
   "language": "python",
   "name": "python3"
  },
  "language_info": {
   "codemirror_mode": {
    "name": "ipython",
    "version": 3
   },
   "file_extension": ".py",
   "mimetype": "text/x-python",
   "name": "python",
   "nbconvert_exporter": "python",
   "pygments_lexer": "ipython3",
   "version": "3.6.8"
  }
 },
 "nbformat": 4,
 "nbformat_minor": 2
}
